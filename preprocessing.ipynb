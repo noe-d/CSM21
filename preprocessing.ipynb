{
 "cells": [
  {
   "cell_type": "code",
   "execution_count": 1,
   "metadata": {},
   "outputs": [
    {
     "name": "stderr",
     "output_type": "stream",
     "text": [
      "/Users/nmm/opt/anaconda3/lib/python3.8/site-packages/gensim/similarities/__init__.py:15: UserWarning: The gensim.similarities.levenshtein submodule is disabled, because the optional Levenshtein package <https://pypi.org/project/python-Levenshtein/> is unavailable. Install Levenhstein (e.g. `pip install python-Levenshtein`) to suppress this warning.\n",
      "  warnings.warn(msg)\n"
     ]
    }
   ],
   "source": [
    "import numpy as np\n",
    "import pandas as pd\n",
    "\n",
    "from ast import literal_eval\n",
    "\n",
    "import gensim.utils as g_utils\n",
    "\n",
    "import re\n",
    "import string\n",
    "\n",
    "import emoji\n",
    "\n",
    "from nltk.corpus import stopwords"
   ]
  },
  {
   "cell_type": "markdown",
   "metadata": {},
   "source": [
    "## Load the data"
   ]
  },
  {
   "cell_type": "code",
   "execution_count": 15,
   "metadata": {},
   "outputs": [],
   "source": [
    "LIST_DICTS = [\"hashtags\"\n",
    "              , \"urls\"\n",
    "              , \"user_mentions\"\n",
    "              , \"symbols\"\n",
    "              , \"media\"\n",
    "              , \"bounding_box\"\n",
    "             ]\n",
    "\n",
    "def try_literal_eval(s):\n",
    "    \"\"\" load python object as they are intended to be \"\"\"\n",
    "    try:\n",
    "        return literal_eval(s)\n",
    "    except ValueError:\n",
    "        return s\n",
    "    \n",
    "def load_data(data_path):\n",
    "    df = pd.read_csv(data_path).drop([\"Unnamed: 0\"], axis=1)\n",
    "    for col in LIST_DICTS:\n",
    "        df[col] = df[col].apply(try_literal_eval)\n",
    "        \n",
    "    return df\n",
    "\n",
    "def simplify_fields(df):\n",
    "    df[\"hashtags\"] = [[ht[\"text\"] for ht in hashtags] for hashtags in df.hashtags]\n",
    "    df[\"nb_hashtags\"] = [len(hashtags) for hashtags in df.hashtags]\n",
    "    df[\"urls\"] = [len(urls) for urls in df.urls]\n",
    "    \n",
    "    return df"
   ]
  },
  {
   "cell_type": "code",
   "execution_count": 3,
   "metadata": {},
   "outputs": [
    {
     "data": {
      "text/plain": [
       "(458919, 17)"
      ]
     },
     "execution_count": 3,
     "metadata": {},
     "output_type": "execute_result"
    }
   ],
   "source": [
    "df = simplify_fields(load_data(\"anon_france_15d.csv\"))\n",
    "df.shape"
   ]
  },
  {
   "cell_type": "code",
   "execution_count": 4,
   "metadata": {},
   "outputs": [
    {
     "data": {
      "text/html": [
       "<div>\n",
       "<style scoped>\n",
       "    .dataframe tbody tr th:only-of-type {\n",
       "        vertical-align: middle;\n",
       "    }\n",
       "\n",
       "    .dataframe tbody tr th {\n",
       "        vertical-align: top;\n",
       "    }\n",
       "\n",
       "    .dataframe thead th {\n",
       "        text-align: right;\n",
       "    }\n",
       "</style>\n",
       "<table border=\"1\" class=\"dataframe\">\n",
       "  <thead>\n",
       "    <tr style=\"text-align: right;\">\n",
       "      <th></th>\n",
       "      <th>created_at</th>\n",
       "      <th>id_str</th>\n",
       "      <th>text</th>\n",
       "      <th>hashtags</th>\n",
       "      <th>urls</th>\n",
       "      <th>user_mentions</th>\n",
       "      <th>symbols</th>\n",
       "      <th>media</th>\n",
       "      <th>lang</th>\n",
       "      <th>coordinates</th>\n",
       "      <th>place_id</th>\n",
       "      <th>place_type</th>\n",
       "      <th>place_name</th>\n",
       "      <th>place_country</th>\n",
       "      <th>bounding_box</th>\n",
       "      <th>user_id</th>\n",
       "      <th>nb_hashtags</th>\n",
       "    </tr>\n",
       "  </thead>\n",
       "  <tbody>\n",
       "    <tr>\n",
       "      <th>271644</th>\n",
       "      <td>2021-04-11 20:16:29+00:00</td>\n",
       "      <td>1.381340e+18</td>\n",
       "      <td>Putain elle est d’une douceuuuur 😍</td>\n",
       "      <td>[]</td>\n",
       "      <td>0</td>\n",
       "      <td>0</td>\n",
       "      <td>[]</td>\n",
       "      <td>[]</td>\n",
       "      <td>fr</td>\n",
       "      <td>NaN</td>\n",
       "      <td>4d4fdfb131cd110f</td>\n",
       "      <td>city</td>\n",
       "      <td>Saint-Denis</td>\n",
       "      <td>France</td>\n",
       "      <td>[[[2.333193, 48.901472], [2.333193, 48.952035]...</td>\n",
       "      <td>103381</td>\n",
       "      <td>0</td>\n",
       "    </tr>\n",
       "  </tbody>\n",
       "</table>\n",
       "</div>"
      ],
      "text/plain": [
       "                       created_at        id_str  \\\n",
       "271644  2021-04-11 20:16:29+00:00  1.381340e+18   \n",
       "\n",
       "                                      text hashtags  urls  user_mentions  \\\n",
       "271644  Putain elle est d’une douceuuuur 😍       []     0              0   \n",
       "\n",
       "       symbols media lang coordinates          place_id place_type  \\\n",
       "271644      []    []   fr         NaN  4d4fdfb131cd110f       city   \n",
       "\n",
       "         place_name place_country  \\\n",
       "271644  Saint-Denis        France   \n",
       "\n",
       "                                             bounding_box  user_id  \\\n",
       "271644  [[[2.333193, 48.901472], [2.333193, 48.952035]...   103381   \n",
       "\n",
       "        nb_hashtags  \n",
       "271644            0  "
      ]
     },
     "execution_count": 4,
     "metadata": {},
     "output_type": "execute_result"
    }
   ],
   "source": [
    "df.sample()"
   ]
  },
  {
   "cell_type": "code",
   "execution_count": 5,
   "metadata": {},
   "outputs": [
    {
     "data": {
      "text/plain": [
       "(330415, 17)"
      ]
     },
     "execution_count": 5,
     "metadata": {},
     "output_type": "execute_result"
    }
   ],
   "source": [
    "df_fr = df[df.lang==\"fr\"].copy()\n",
    "df_fr.shape"
   ]
  },
  {
   "cell_type": "markdown",
   "metadata": {},
   "source": [
    "## NLP preprocessing"
   ]
  },
  {
   "cell_type": "code",
   "execution_count": 6,
   "metadata": {},
   "outputs": [],
   "source": [
    "mask_ht = np.array([len(ht)>0 for ht in df_fr.hashtags])\n",
    "mask_url = np.array([url>0 for url in df_fr.urls])\n",
    "mask_mention = np.array([mention>0 for mention in df_fr.user_mentions])\n",
    "\n",
    "mask_all = [(h and u and m) for h,u,m in zip(mask_ht, mask_url, mask_mention)]\n",
    "\n",
    "#df_fr[mask_all]"
   ]
  },
  {
   "cell_type": "code",
   "execution_count": 7,
   "metadata": {},
   "outputs": [
    {
     "data": {
      "text/plain": [
       "'Ce bleu ! 🤩 💙\\r\\n#ILoveNice #ExploreNiceCotedAzur #CotedAzurFrance \\r\\n@44813 @72232 @68710 @VisitCotedazur https://t.co/afG3C5dIEc'"
      ]
     },
     "execution_count": 7,
     "metadata": {},
     "output_type": "execute_result"
    }
   ],
   "source": [
    "df_fr.loc[106].text"
   ]
  },
  {
   "cell_type": "markdown",
   "metadata": {},
   "source": [
    "### Remove urls"
   ]
  },
  {
   "cell_type": "code",
   "execution_count": 8,
   "metadata": {},
   "outputs": [
    {
     "name": "stdout",
     "output_type": "stream",
     "text": [
      "CPU times: user 276 ms, sys: 4.36 ms, total: 280 ms\n",
      "Wall time: 279 ms\n"
     ]
    }
   ],
   "source": [
    "%time df_fr[\"text\"] = df_fr[\"text\"].apply(lambda tweet: re.sub(r'http\\S+', '', tweet))"
   ]
  },
  {
   "cell_type": "code",
   "execution_count": 9,
   "metadata": {},
   "outputs": [
    {
     "data": {
      "text/plain": [
       "'Ce bleu ! 🤩 💙\\r\\n#ILoveNice #ExploreNiceCotedAzur #CotedAzurFrance \\r\\n@44813 @72232 @68710 @VisitCotedazur '"
      ]
     },
     "execution_count": 9,
     "metadata": {},
     "output_type": "execute_result"
    }
   ],
   "source": [
    "df_fr.loc[106].text"
   ]
  },
  {
   "cell_type": "markdown",
   "metadata": {},
   "source": [
    "### Remove mentions"
   ]
  },
  {
   "cell_type": "code",
   "execution_count": 10,
   "metadata": {},
   "outputs": [
    {
     "name": "stdout",
     "output_type": "stream",
     "text": [
      "CPU times: user 338 ms, sys: 4.48 ms, total: 343 ms\n",
      "Wall time: 342 ms\n"
     ]
    }
   ],
   "source": [
    "%time df_fr[\"text\"] = df_fr[\"text\"].apply(lambda tweet: re.sub(r'@\\S+', '', tweet))"
   ]
  },
  {
   "cell_type": "code",
   "execution_count": 11,
   "metadata": {},
   "outputs": [
    {
     "data": {
      "text/plain": [
       "'Ce bleu ! 🤩 💙\\r\\n#ILoveNice #ExploreNiceCotedAzur #CotedAzurFrance \\r\\n    '"
      ]
     },
     "execution_count": 11,
     "metadata": {},
     "output_type": "execute_result"
    }
   ],
   "source": [
    "df_fr.loc[106].text"
   ]
  },
  {
   "cell_type": "markdown",
   "metadata": {},
   "source": [
    "### Remove hashtags"
   ]
  },
  {
   "cell_type": "code",
   "execution_count": 12,
   "metadata": {},
   "outputs": [
    {
     "name": "stdout",
     "output_type": "stream",
     "text": [
      "CPU times: user 284 ms, sys: 2.05 ms, total: 286 ms\n",
      "Wall time: 285 ms\n"
     ]
    }
   ],
   "source": [
    "%time df_fr[\"text\"] = df_fr[\"text\"].apply(lambda tweet: re.sub(r'#\\S+', '', tweet))"
   ]
  },
  {
   "cell_type": "code",
   "execution_count": 13,
   "metadata": {},
   "outputs": [
    {
     "data": {
      "text/plain": [
       "'Ce bleu ! 🤩 💙\\r\\n   \\r\\n    '"
      ]
     },
     "execution_count": 13,
     "metadata": {},
     "output_type": "execute_result"
    }
   ],
   "source": [
    "df_fr.loc[106].text"
   ]
  },
  {
   "cell_type": "markdown",
   "metadata": {},
   "source": [
    "### Remove punctuation"
   ]
  },
  {
   "cell_type": "code",
   "execution_count": 14,
   "metadata": {},
   "outputs": [
    {
     "name": "stdout",
     "output_type": "stream",
     "text": [
      "CPU times: user 1.79 s, sys: 13 ms, total: 1.8 s\n",
      "Wall time: 1.8 s\n"
     ]
    }
   ],
   "source": [
    "%time df_fr[\"text\"] = df_fr[\"text\"].apply(lambda tweet: tweet.translate(str.maketrans('', '', string.punctuation)))"
   ]
  },
  {
   "cell_type": "code",
   "execution_count": 15,
   "metadata": {},
   "outputs": [
    {
     "data": {
      "text/plain": [
       "'Ce bleu  🤩 💙\\r\\n   \\r\\n    '"
      ]
     },
     "execution_count": 15,
     "metadata": {},
     "output_type": "execute_result"
    }
   ],
   "source": [
    "df_fr.loc[106].text"
   ]
  },
  {
   "cell_type": "markdown",
   "metadata": {},
   "source": [
    "### Remove smileys"
   ]
  },
  {
   "cell_type": "code",
   "execution_count": 16,
   "metadata": {},
   "outputs": [],
   "source": [
    "def give_emoji_free_text(text):\n",
    "    return emoji.get_emoji_regexp().sub(r'', text)"
   ]
  },
  {
   "cell_type": "code",
   "execution_count": 17,
   "metadata": {},
   "outputs": [],
   "source": [
    "def deEmojify(text):\n",
    "    regrex_pattern = re.compile(pattern = \"[\"\n",
    "        u\"\\U0001F600-\\U0001F64F\"  # emoticons\n",
    "        u\"\\U0001F300-\\U0001F5FF\"  # symbols & pictographs\n",
    "        u\"\\U0001F680-\\U0001F6FF\"  # transport & map symbols\n",
    "        u\"\\U0001F1E0-\\U0001F1FF\"  # flags (iOS)\n",
    "                           \"]+\", flags = re.UNICODE)\n",
    "    return regrex_pattern.sub(r'',text)"
   ]
  },
  {
   "cell_type": "code",
   "execution_count": 17,
   "metadata": {},
   "outputs": [
    {
     "name": "stdout",
     "output_type": "stream",
     "text": [
      "CPU times: user 1min 49s, sys: 295 ms, total: 1min 49s\n",
      "Wall time: 1min 49s\n"
     ]
    }
   ],
   "source": [
    "%time df_fr[\"text\"] = df_fr[\"text\"].apply(give_emoji_free_text)"
   ]
  },
  {
   "cell_type": "code",
   "execution_count": 18,
   "metadata": {},
   "outputs": [
    {
     "data": {
      "text/plain": [
       "'Ce bleu   \\r\\n   \\r\\n    '"
      ]
     },
     "execution_count": 18,
     "metadata": {},
     "output_type": "execute_result"
    }
   ],
   "source": [
    "df_fr.loc[106].text"
   ]
  },
  {
   "cell_type": "markdown",
   "metadata": {},
   "source": [
    "### Tokenize"
   ]
  },
  {
   "cell_type": "code",
   "execution_count": 19,
   "metadata": {},
   "outputs": [
    {
     "name": "stdout",
     "output_type": "stream",
     "text": [
      "CPU times: user 3.42 s, sys: 51 ms, total: 3.47 s\n",
      "Wall time: 3.47 s\n"
     ]
    }
   ],
   "source": [
    "%time df_fr[\"tokens\"] = df_fr[\"text\"].apply(lambda tweet: list(g_utils.tokenize(tweet, deacc=False, lowercase=True)))"
   ]
  },
  {
   "cell_type": "code",
   "execution_count": 20,
   "metadata": {},
   "outputs": [
    {
     "data": {
      "text/plain": [
       "['ce', 'bleu']"
      ]
     },
     "execution_count": 20,
     "metadata": {},
     "output_type": "execute_result"
    }
   ],
   "source": [
    "df_fr.loc[106].tokens"
   ]
  },
  {
   "cell_type": "markdown",
   "metadata": {},
   "source": [
    "### Remove stopwords"
   ]
  },
  {
   "cell_type": "code",
   "execution_count": 21,
   "metadata": {},
   "outputs": [],
   "source": [
    "STOP_WORDS = stopwords.words(\"french\")"
   ]
  },
  {
   "cell_type": "code",
   "execution_count": 22,
   "metadata": {},
   "outputs": [],
   "source": [
    "def clean_tokens(tokens, stopwords=STOP_WORDS):\n",
    "    cleaned_tokens = [token for token in tokens\n",
    "                      if not (token in stopwords\n",
    "                              or token.isnumeric()\n",
    "                              or len(token)<3\n",
    "                             )\n",
    "                     ]\n",
    "    return cleaned_tokens"
   ]
  },
  {
   "cell_type": "code",
   "execution_count": 23,
   "metadata": {},
   "outputs": [
    {
     "name": "stdout",
     "output_type": "stream",
     "text": [
      "CPU times: user 5.5 s, sys: 23.8 ms, total: 5.52 s\n",
      "Wall time: 5.52 s\n"
     ]
    }
   ],
   "source": [
    "%time df_fr[\"tokens_cleaned\"] = df_fr[\"tokens\"].apply(clean_tokens)"
   ]
  },
  {
   "cell_type": "code",
   "execution_count": 26,
   "metadata": {},
   "outputs": [
    {
     "data": {
      "text/plain": [
       "['bleu']"
      ]
     },
     "execution_count": 26,
     "metadata": {},
     "output_type": "execute_result"
    }
   ],
   "source": [
    "df_fr.loc[106].tokens_cleaned"
   ]
  },
  {
   "cell_type": "code",
   "execution_count": 24,
   "metadata": {},
   "outputs": [
    {
     "data": {
      "text/plain": [
       "<AxesSubplot:>"
      ]
     },
     "execution_count": 24,
     "metadata": {},
     "output_type": "execute_result"
    },
    {
     "data": {
      "image/png": "[encoded data removed]",
      "text/plain": [
       "<Figure size 432x288 with 1 Axes>"
      ]
     },
     "metadata": {
      "needs_background": "light"
     },
     "output_type": "display_data"
    }
   ],
   "source": [
    "df_fr[\"tokens_cleaned\"].apply(len).hist(bins=30)"
   ]
  },
  {
   "cell_type": "markdown",
   "metadata": {},
   "source": [
    "## POS tagging"
   ]
  },
  {
   "cell_type": "code",
   "execution_count": 23,
   "metadata": {},
   "outputs": [
    {
     "data": {
      "text/plain": [
       "(330415, 1)"
      ]
     },
     "execution_count": 23,
     "metadata": {},
     "output_type": "execute_result"
    }
   ],
   "source": [
    "# done with spacy-lefff in an external notebook\n",
    "df_lemma = pd.read_csv(\"cleaned_lemmatized_tweets.csv\").set_index(\"Unnamed: 0\")#, axis=1)\n",
    "df_lemma[\"text_clean\"] = df_lemma[\"text_clean\"].apply(literal_eval)\n",
    "df_lemma.shape"
   ]
  },
  {
   "cell_type": "code",
   "execution_count": 24,
   "metadata": {},
   "outputs": [
    {
     "data": {
      "text/html": [
       "<div>\n",
       "<style scoped>\n",
       "    .dataframe tbody tr th:only-of-type {\n",
       "        vertical-align: middle;\n",
       "    }\n",
       "\n",
       "    .dataframe tbody tr th {\n",
       "        vertical-align: top;\n",
       "    }\n",
       "\n",
       "    .dataframe thead th {\n",
       "        text-align: right;\n",
       "    }\n",
       "</style>\n",
       "<table border=\"1\" class=\"dataframe\">\n",
       "  <thead>\n",
       "    <tr style=\"text-align: right;\">\n",
       "      <th></th>\n",
       "      <th>text_clean</th>\n",
       "    </tr>\n",
       "    <tr>\n",
       "      <th>Unnamed: 0</th>\n",
       "      <th></th>\n",
       "    </tr>\n",
       "  </thead>\n",
       "  <tbody>\n",
       "    <tr>\n",
       "      <th>102063</th>\n",
       "      <td>[(ComeBack2, NOUN, comeback2), (le, DET, le), ...</td>\n",
       "    </tr>\n",
       "    <tr>\n",
       "      <th>49062</th>\n",
       "      <td>[(Bonjour, PROPN, bonjour)]</td>\n",
       "    </tr>\n",
       "  </tbody>\n",
       "</table>\n",
       "</div>"
      ],
      "text/plain": [
       "                                                   text_clean\n",
       "Unnamed: 0                                                   \n",
       "102063      [(ComeBack2, NOUN, comeback2), (le, DET, le), ...\n",
       "49062                             [(Bonjour, PROPN, bonjour)]"
      ]
     },
     "execution_count": 24,
     "metadata": {},
     "output_type": "execute_result"
    }
   ],
   "source": [
    "df_lemma.sample(2)"
   ]
  },
  {
   "cell_type": "code",
   "execution_count": 26,
   "metadata": {},
   "outputs": [
    {
     "data": {
      "text/html": [
       "<div>\n",
       "<style scoped>\n",
       "    .dataframe tbody tr th:only-of-type {\n",
       "        vertical-align: middle;\n",
       "    }\n",
       "\n",
       "    .dataframe tbody tr th {\n",
       "        vertical-align: top;\n",
       "    }\n",
       "\n",
       "    .dataframe thead th {\n",
       "        text-align: right;\n",
       "    }\n",
       "</style>\n",
       "<table border=\"1\" class=\"dataframe\">\n",
       "  <thead>\n",
       "    <tr style=\"text-align: right;\">\n",
       "      <th></th>\n",
       "      <th>created_at</th>\n",
       "      <th>id_str</th>\n",
       "      <th>text</th>\n",
       "      <th>hashtags</th>\n",
       "      <th>urls</th>\n",
       "      <th>user_mentions</th>\n",
       "      <th>symbols</th>\n",
       "      <th>media</th>\n",
       "      <th>lang</th>\n",
       "      <th>coordinates</th>\n",
       "      <th>...</th>\n",
       "      <th>place_type</th>\n",
       "      <th>place_name</th>\n",
       "      <th>place_country</th>\n",
       "      <th>bounding_box</th>\n",
       "      <th>user_id</th>\n",
       "      <th>nb_hashtags</th>\n",
       "      <th>text_clean</th>\n",
       "      <th>tokens</th>\n",
       "      <th>tokens_cleand</th>\n",
       "      <th>len_tc</th>\n",
       "    </tr>\n",
       "    <tr>\n",
       "      <th>Unnamed: 0</th>\n",
       "      <th></th>\n",
       "      <th></th>\n",
       "      <th></th>\n",
       "      <th></th>\n",
       "      <th></th>\n",
       "      <th></th>\n",
       "      <th></th>\n",
       "      <th></th>\n",
       "      <th></th>\n",
       "      <th></th>\n",
       "      <th></th>\n",
       "      <th></th>\n",
       "      <th></th>\n",
       "      <th></th>\n",
       "      <th></th>\n",
       "      <th></th>\n",
       "      <th></th>\n",
       "      <th></th>\n",
       "      <th></th>\n",
       "      <th></th>\n",
       "      <th></th>\n",
       "    </tr>\n",
       "  </thead>\n",
       "  <tbody>\n",
       "    <tr>\n",
       "      <th>233674</th>\n",
       "      <td>2021-04-24 16:00:52+00:00</td>\n",
       "      <td>1.385987e+18</td>\n",
       "      <td>@114300 Bientot ouais ils ma ruiner celui la 😅😅</td>\n",
       "      <td>[]</td>\n",
       "      <td>0</td>\n",
       "      <td>1</td>\n",
       "      <td>[]</td>\n",
       "      <td>[]</td>\n",
       "      <td>fr</td>\n",
       "      <td>NaN</td>\n",
       "      <td>...</td>\n",
       "      <td>city</td>\n",
       "      <td>Pontault-Combault</td>\n",
       "      <td>France</td>\n",
       "      <td>[[[2.585433, 48.760998], [2.585433, 48.815954]...</td>\n",
       "      <td>38690</td>\n",
       "      <td>0</td>\n",
       "      <td>Bientot ouais ils ma ruiner celui la</td>\n",
       "      <td>['bientot', 'ouais', 'ils', 'ma', 'ruiner', 'c...</td>\n",
       "      <td>['bientot', 'ouais', 'ruiner', 'celui']</td>\n",
       "      <td>4</td>\n",
       "    </tr>\n",
       "    <tr>\n",
       "      <th>69038</th>\n",
       "      <td>2021-04-18 16:01:23+00:00</td>\n",
       "      <td>1.383813e+18</td>\n",
       "      <td>Un beau dimanche de collage pour lancer la cam...</td>\n",
       "      <td>['Creteil']</td>\n",
       "      <td>1</td>\n",
       "      <td>2</td>\n",
       "      <td>[]</td>\n",
       "      <td>[]</td>\n",
       "      <td>fr</td>\n",
       "      <td>NaN</td>\n",
       "      <td>...</td>\n",
       "      <td>admin</td>\n",
       "      <td>Val-de-Marne</td>\n",
       "      <td>France</td>\n",
       "      <td>[[[2.308671, 48.687562], [2.308671, 48.861575]...</td>\n",
       "      <td>8307</td>\n",
       "      <td>1</td>\n",
       "      <td>Un beau dimanche de collage pour lancer la cam...</td>\n",
       "      <td>['un', 'beau', 'dimanche', 'de', 'collage', 'p...</td>\n",
       "      <td>['beau', 'dimanche', 'collage', 'lancer', 'cam...</td>\n",
       "      <td>6</td>\n",
       "    </tr>\n",
       "  </tbody>\n",
       "</table>\n",
       "<p>2 rows × 21 columns</p>\n",
       "</div>"
      ],
      "text/plain": [
       "                           created_at        id_str  \\\n",
       "Unnamed: 0                                            \n",
       "233674      2021-04-24 16:00:52+00:00  1.385987e+18   \n",
       "69038       2021-04-18 16:01:23+00:00  1.383813e+18   \n",
       "\n",
       "                                                         text     hashtags  \\\n",
       "Unnamed: 0                                                                   \n",
       "233674        @114300 Bientot ouais ils ma ruiner celui la 😅😅           []   \n",
       "69038       Un beau dimanche de collage pour lancer la cam...  ['Creteil']   \n",
       "\n",
       "            urls  user_mentions symbols media lang coordinates  ...  \\\n",
       "Unnamed: 0                                                      ...   \n",
       "233674         0              1      []    []   fr         NaN  ...   \n",
       "69038          1              2      []    []   fr         NaN  ...   \n",
       "\n",
       "           place_type         place_name place_country  \\\n",
       "Unnamed: 0                                               \n",
       "233674           city  Pontault-Combault        France   \n",
       "69038           admin       Val-de-Marne        France   \n",
       "\n",
       "                                                 bounding_box user_id  \\\n",
       "Unnamed: 0                                                              \n",
       "233674      [[[2.585433, 48.760998], [2.585433, 48.815954]...   38690   \n",
       "69038       [[[2.308671, 48.687562], [2.308671, 48.861575]...    8307   \n",
       "\n",
       "            nb_hashtags                                         text_clean  \\\n",
       "Unnamed: 0                                                                   \n",
       "233674                0              Bientot ouais ils ma ruiner celui la    \n",
       "69038                 1  Un beau dimanche de collage pour lancer la cam...   \n",
       "\n",
       "                                                       tokens  \\\n",
       "Unnamed: 0                                                      \n",
       "233674      ['bientot', 'ouais', 'ils', 'ma', 'ruiner', 'c...   \n",
       "69038       ['un', 'beau', 'dimanche', 'de', 'collage', 'p...   \n",
       "\n",
       "                                                tokens_cleand len_tc  \n",
       "Unnamed: 0                                                            \n",
       "233674                ['bientot', 'ouais', 'ruiner', 'celui']      4  \n",
       "69038       ['beau', 'dimanche', 'collage', 'lancer', 'cam...      6  \n",
       "\n",
       "[2 rows x 21 columns]"
      ]
     },
     "execution_count": 26,
     "metadata": {},
     "output_type": "execute_result"
    }
   ],
   "source": [
    "df_fr.sample(2)"
   ]
  },
  {
   "cell_type": "code",
   "execution_count": 34,
   "metadata": {},
   "outputs": [],
   "source": [
    "df_fr.sort_index(inplace=True)\n",
    "df_lemma.sort_index(inplace=True)"
   ]
  },
  {
   "cell_type": "code",
   "execution_count": 37,
   "metadata": {},
   "outputs": [
    {
     "data": {
      "text/plain": [
       "0"
      ]
     },
     "execution_count": 37,
     "metadata": {},
     "output_type": "execute_result"
    }
   ],
   "source": [
    "np.sum([0 if (f_id==l_id) else 1 for (f_id, l_id) in zip(df_fr.index.values, df_lemma.index.values)])"
   ]
  },
  {
   "cell_type": "code",
   "execution_count": 40,
   "metadata": {},
   "outputs": [],
   "source": [
    "df_lemma.rename({\"text_clean\":\"w_pos_lemma\"}, axis=1, inplace=True)"
   ]
  },
  {
   "cell_type": "code",
   "execution_count": 41,
   "metadata": {},
   "outputs": [],
   "source": [
    "df_fr[\"w_pos_lemma\"] = df_lemma[\"w_pos_lemma\"]"
   ]
  },
  {
   "cell_type": "code",
   "execution_count": 49,
   "metadata": {},
   "outputs": [
    {
     "data": {
      "text/html": [
       "<div>\n",
       "<style scoped>\n",
       "    .dataframe tbody tr th:only-of-type {\n",
       "        vertical-align: middle;\n",
       "    }\n",
       "\n",
       "    .dataframe tbody tr th {\n",
       "        vertical-align: top;\n",
       "    }\n",
       "\n",
       "    .dataframe thead th {\n",
       "        text-align: right;\n",
       "    }\n",
       "</style>\n",
       "<table border=\"1\" class=\"dataframe\">\n",
       "  <thead>\n",
       "    <tr style=\"text-align: right;\">\n",
       "      <th></th>\n",
       "      <th>created_at</th>\n",
       "      <th>id_str</th>\n",
       "      <th>text</th>\n",
       "      <th>hashtags</th>\n",
       "      <th>urls</th>\n",
       "      <th>user_mentions</th>\n",
       "      <th>symbols</th>\n",
       "      <th>media</th>\n",
       "      <th>lang</th>\n",
       "      <th>coordinates</th>\n",
       "      <th>...</th>\n",
       "      <th>place_name</th>\n",
       "      <th>place_country</th>\n",
       "      <th>bounding_box</th>\n",
       "      <th>user_id</th>\n",
       "      <th>nb_hashtags</th>\n",
       "      <th>text_clean</th>\n",
       "      <th>tokens</th>\n",
       "      <th>tokens_cleand</th>\n",
       "      <th>len_tc</th>\n",
       "      <th>w_pos_lemma</th>\n",
       "    </tr>\n",
       "    <tr>\n",
       "      <th>Unnamed: 0</th>\n",
       "      <th></th>\n",
       "      <th></th>\n",
       "      <th></th>\n",
       "      <th></th>\n",
       "      <th></th>\n",
       "      <th></th>\n",
       "      <th></th>\n",
       "      <th></th>\n",
       "      <th></th>\n",
       "      <th></th>\n",
       "      <th></th>\n",
       "      <th></th>\n",
       "      <th></th>\n",
       "      <th></th>\n",
       "      <th></th>\n",
       "      <th></th>\n",
       "      <th></th>\n",
       "      <th></th>\n",
       "      <th></th>\n",
       "      <th></th>\n",
       "      <th></th>\n",
       "    </tr>\n",
       "  </thead>\n",
       "  <tbody>\n",
       "    <tr>\n",
       "      <th>28816</th>\n",
       "      <td>2021-04-13 16:58:15+00:00</td>\n",
       "      <td>1.382015e+18</td>\n",
       "      <td>Parce que @50055 est au ❤️ de l'actualité et p...</td>\n",
       "      <td>[]</td>\n",
       "      <td>1</td>\n",
       "      <td>1</td>\n",
       "      <td>[]</td>\n",
       "      <td>[]</td>\n",
       "      <td>fr</td>\n",
       "      <td>NaN</td>\n",
       "      <td>...</td>\n",
       "      <td>Saint-Jean-de-Védas</td>\n",
       "      <td>France</td>\n",
       "      <td>[[[3.80461, 43.550941], [3.80461, 43.595643], ...</td>\n",
       "      <td>120422</td>\n",
       "      <td>0</td>\n",
       "      <td>Parce que  est au ❤️ de lactualité et proche d...</td>\n",
       "      <td>['parce', 'que', 'est', 'au', 'de', 'lactualit...</td>\n",
       "      <td>['parce', 'lactualite', 'proche', 'acteurs', '...</td>\n",
       "      <td>17</td>\n",
       "      <td>[(Parce, SCONJ, parce), (que, SCONJ, que), ( ,...</td>\n",
       "    </tr>\n",
       "    <tr>\n",
       "      <th>280301</th>\n",
       "      <td>2021-04-20 15:31:15+00:00</td>\n",
       "      <td>1.384530e+18</td>\n",
       "      <td>BRAVO @56576 pour cette première présentation ...</td>\n",
       "      <td>['FigaroLive']</td>\n",
       "      <td>0</td>\n",
       "      <td>2</td>\n",
       "      <td>[]</td>\n",
       "      <td>['photo']</td>\n",
       "      <td>fr</td>\n",
       "      <td>NaN</td>\n",
       "      <td>...</td>\n",
       "      <td>Paris</td>\n",
       "      <td>France</td>\n",
       "      <td>[[[2.224101, 48.815521], [2.224101, 48.902146]...</td>\n",
       "      <td>21657</td>\n",
       "      <td>1</td>\n",
       "      <td>BRAVO  pour cette première présentation dans \\...</td>\n",
       "      <td>['bravo', 'pour', 'cette', 'premiere', 'presen...</td>\n",
       "      <td>['bravo', 'cette', 'premiere', 'presentation']</td>\n",
       "      <td>4</td>\n",
       "      <td>[(BRAVO, PROPN, bravo), ( , SPACE,  ), (pour, ...</td>\n",
       "    </tr>\n",
       "    <tr>\n",
       "      <th>150703</th>\n",
       "      <td>2021-04-20 22:09:59+00:00</td>\n",
       "      <td>1.384630e+18</td>\n",
       "      <td>@71800 Rip Roach\\r\\n\\r\\n( Bob l'éponge qui reg...</td>\n",
       "      <td>[]</td>\n",
       "      <td>0</td>\n",
       "      <td>1</td>\n",
       "      <td>[]</td>\n",
       "      <td>[]</td>\n",
       "      <td>fr</td>\n",
       "      <td>NaN</td>\n",
       "      <td>...</td>\n",
       "      <td>Villiers-le-Bel</td>\n",
       "      <td>France</td>\n",
       "      <td>[[[2.378877, 48.991868], [2.378877, 49.024132]...</td>\n",
       "      <td>83350</td>\n",
       "      <td>0</td>\n",
       "      <td>Rip Roach\\r\\n\\r\\n Bob léponge qui regarde un ...</td>\n",
       "      <td>['rip', 'roach', 'bob', 'leponge', 'qui', 'reg...</td>\n",
       "      <td>['rip', 'roach', 'bob', 'leponge', 'regarde', ...</td>\n",
       "      <td>8</td>\n",
       "      <td>[( , SPACE,  ), (Rip, NOUN, rip), (Roach, PROP...</td>\n",
       "    </tr>\n",
       "  </tbody>\n",
       "</table>\n",
       "<p>3 rows × 22 columns</p>\n",
       "</div>"
      ],
      "text/plain": [
       "                           created_at        id_str  \\\n",
       "Unnamed: 0                                            \n",
       "28816       2021-04-13 16:58:15+00:00  1.382015e+18   \n",
       "280301      2021-04-20 15:31:15+00:00  1.384530e+18   \n",
       "150703      2021-04-20 22:09:59+00:00  1.384630e+18   \n",
       "\n",
       "                                                         text        hashtags  \\\n",
       "Unnamed: 0                                                                      \n",
       "28816       Parce que @50055 est au ❤️ de l'actualité et p...              []   \n",
       "280301      BRAVO @56576 pour cette première présentation ...  ['FigaroLive']   \n",
       "150703      @71800 Rip Roach\\r\\n\\r\\n( Bob l'éponge qui reg...              []   \n",
       "\n",
       "            urls  user_mentions symbols      media lang coordinates  ...  \\\n",
       "Unnamed: 0                                                           ...   \n",
       "28816          1              1      []         []   fr         NaN  ...   \n",
       "280301         0              2      []  ['photo']   fr         NaN  ...   \n",
       "150703         0              1      []         []   fr         NaN  ...   \n",
       "\n",
       "                     place_name place_country  \\\n",
       "Unnamed: 0                                      \n",
       "28816       Saint-Jean-de-Védas        France   \n",
       "280301                    Paris        France   \n",
       "150703          Villiers-le-Bel        France   \n",
       "\n",
       "                                                 bounding_box user_id  \\\n",
       "Unnamed: 0                                                              \n",
       "28816       [[[3.80461, 43.550941], [3.80461, 43.595643], ...  120422   \n",
       "280301      [[[2.224101, 48.815521], [2.224101, 48.902146]...   21657   \n",
       "150703      [[[2.378877, 48.991868], [2.378877, 49.024132]...   83350   \n",
       "\n",
       "           nb_hashtags                                         text_clean  \\\n",
       "Unnamed: 0                                                                  \n",
       "28816                0  Parce que  est au ❤️ de lactualité et proche d...   \n",
       "280301               1  BRAVO  pour cette première présentation dans \\...   \n",
       "150703               0   Rip Roach\\r\\n\\r\\n Bob léponge qui regarde un ...   \n",
       "\n",
       "                                                       tokens  \\\n",
       "Unnamed: 0                                                      \n",
       "28816       ['parce', 'que', 'est', 'au', 'de', 'lactualit...   \n",
       "280301      ['bravo', 'pour', 'cette', 'premiere', 'presen...   \n",
       "150703      ['rip', 'roach', 'bob', 'leponge', 'qui', 'reg...   \n",
       "\n",
       "                                                tokens_cleand len_tc  \\\n",
       "Unnamed: 0                                                             \n",
       "28816       ['parce', 'lactualite', 'proche', 'acteurs', '...     17   \n",
       "280301         ['bravo', 'cette', 'premiere', 'presentation']      4   \n",
       "150703      ['rip', 'roach', 'bob', 'leponge', 'regarde', ...      8   \n",
       "\n",
       "                                                  w_pos_lemma  \n",
       "Unnamed: 0                                                     \n",
       "28816       [(Parce, SCONJ, parce), (que, SCONJ, que), ( ,...  \n",
       "280301      [(BRAVO, PROPN, bravo), ( , SPACE,  ), (pour, ...  \n",
       "150703      [( , SPACE,  ), (Rip, NOUN, rip), (Roach, PROP...  \n",
       "\n",
       "[3 rows x 22 columns]"
      ]
     },
     "execution_count": 49,
     "metadata": {},
     "output_type": "execute_result"
    }
   ],
   "source": [
    "df_fr.sample(3)#[[\"text\", \"text_clean\", \"w_pos_lemma\"]].sample(5)"
   ]
  },
  {
   "cell_type": "code",
   "execution_count": 48,
   "metadata": {},
   "outputs": [],
   "source": [
    "#df_fr.to_csv(\"tweets_nlp.csv\")"
   ]
  },
  {
   "cell_type": "code",
   "execution_count": 16,
   "metadata": {},
   "outputs": [
    {
     "name": "stdout",
     "output_type": "stream",
     "text": [
      "CPU times: user 16.5 s, sys: 262 ms, total: 16.8 s\n",
      "Wall time: 16.8 s\n"
     ]
    },
    {
     "data": {
      "text/html": [
       "<div>\n",
       "<style scoped>\n",
       "    .dataframe tbody tr th:only-of-type {\n",
       "        vertical-align: middle;\n",
       "    }\n",
       "\n",
       "    .dataframe tbody tr th {\n",
       "        vertical-align: top;\n",
       "    }\n",
       "\n",
       "    .dataframe thead th {\n",
       "        text-align: right;\n",
       "    }\n",
       "</style>\n",
       "<table border=\"1\" class=\"dataframe\">\n",
       "  <thead>\n",
       "    <tr style=\"text-align: right;\">\n",
       "      <th></th>\n",
       "      <th>created_at</th>\n",
       "      <th>id_str</th>\n",
       "      <th>text</th>\n",
       "      <th>hashtags</th>\n",
       "      <th>urls</th>\n",
       "      <th>user_mentions</th>\n",
       "      <th>symbols</th>\n",
       "      <th>media</th>\n",
       "      <th>lang</th>\n",
       "      <th>coordinates</th>\n",
       "      <th>...</th>\n",
       "      <th>place_name</th>\n",
       "      <th>place_country</th>\n",
       "      <th>bounding_box</th>\n",
       "      <th>user_id</th>\n",
       "      <th>nb_hashtags</th>\n",
       "      <th>text_clean</th>\n",
       "      <th>tokens</th>\n",
       "      <th>tokens_cleand</th>\n",
       "      <th>len_tc</th>\n",
       "      <th>w_pos_lemma</th>\n",
       "    </tr>\n",
       "  </thead>\n",
       "  <tbody>\n",
       "    <tr>\n",
       "      <th>310953</th>\n",
       "      <td>2021-04-12 13:01:47+00:00</td>\n",
       "      <td>1.381593e+18</td>\n",
       "      <td>@102900 Ça fait deux la !</td>\n",
       "      <td>[]</td>\n",
       "      <td>0</td>\n",
       "      <td>1</td>\n",
       "      <td>[]</td>\n",
       "      <td>[]</td>\n",
       "      <td>fr</td>\n",
       "      <td>NaN</td>\n",
       "      <td>...</td>\n",
       "      <td>Ajaccio</td>\n",
       "      <td>France</td>\n",
       "      <td>[[[8.591837, 41.893916], [8.591837, 41.97156],...</td>\n",
       "      <td>50743</td>\n",
       "      <td>0</td>\n",
       "      <td>Ça fait deux la</td>\n",
       "      <td>['ca', 'fait', 'deux', 'la']</td>\n",
       "      <td>['fait', 'deux']</td>\n",
       "      <td>2</td>\n",
       "      <td>[(' ', 'SPACE', ' '), ('Ça', 'PRON', 'ça'), ('...</td>\n",
       "    </tr>\n",
       "  </tbody>\n",
       "</table>\n",
       "<p>1 rows × 22 columns</p>\n",
       "</div>"
      ],
      "text/plain": [
       "                       created_at        id_str                       text  \\\n",
       "310953  2021-04-12 13:01:47+00:00  1.381593e+18  @102900 Ça fait deux la !   \n",
       "\n",
       "       hashtags  urls  user_mentions symbols media lang coordinates  ...  \\\n",
       "310953       []     0              1      []    []   fr         NaN  ...   \n",
       "\n",
       "       place_name place_country  \\\n",
       "310953    Ajaccio        France   \n",
       "\n",
       "                                             bounding_box user_id nb_hashtags  \\\n",
       "310953  [[[8.591837, 41.893916], [8.591837, 41.97156],...   50743           0   \n",
       "\n",
       "               text_clean                        tokens     tokens_cleand  \\\n",
       "310953   Ça fait deux la   ['ca', 'fait', 'deux', 'la']  ['fait', 'deux']   \n",
       "\n",
       "       len_tc                                        w_pos_lemma  \n",
       "310953      2  [(' ', 'SPACE', ' '), ('Ça', 'PRON', 'ça'), ('...  \n",
       "\n",
       "[1 rows x 22 columns]"
      ]
     },
     "execution_count": 16,
     "metadata": {},
     "output_type": "execute_result"
    }
   ],
   "source": [
    "%%time\n",
    "df_fr = load_data(\"tweets_nlp.csv\")\n",
    "df_fr.sample()"
   ]
  },
  {
   "cell_type": "markdown",
   "metadata": {},
   "source": [
    "## Geo enrichment"
   ]
  },
  {
   "cell_type": "code",
   "execution_count": 24,
   "metadata": {},
   "outputs": [],
   "source": [
    "import geopandas as gpd"
   ]
  },
  {
   "cell_type": "code",
   "execution_count": 26,
   "metadata": {},
   "outputs": [],
   "source": [
    "geo_regions = \"./geodata/regions.geojson\"\n",
    "gdf_regions = gpd.read_file(geo_regions)\n",
    "geo_departements = \"./geodata/departements.geojson\"\n",
    "gdf_departements = gpd.read_file(geo_departements)"
   ]
  },
  {
   "cell_type": "code",
   "execution_count": 27,
   "metadata": {},
   "outputs": [],
   "source": [
    "def get_bb_center(bb):\n",
    "    center_lon,center_lat = ( np.average([bb[0][0][0], bb[0][2][0]]),np.average([bb[0][0][1], bb[0][2][1]]))\n",
    "    return (center_lon,center_lat)"
   ]
  },
  {
   "cell_type": "code",
   "execution_count": 28,
   "metadata": {},
   "outputs": [],
   "source": [
    "from shapely.geometry import Point, Polygon, MultiPolygon\n",
    "\n",
    "def get_geo_code(gdf, point):\n",
    "    pt = Point(point)\n",
    "    for i, polygon in enumerate(gdf.geometry):\n",
    "        if pt.within(polygon):\n",
    "            return gdf.at[i,'code']\n",
    "    return False\n",
    "        "
   ]
  },
  {
   "cell_type": "code",
   "execution_count": 29,
   "metadata": {},
   "outputs": [],
   "source": [
    "df_fr[\"bb_center\"] = [get_bb_center(bounding_box) for bounding_box in df_fr.bounding_box]"
   ]
  },
  {
   "cell_type": "code",
   "execution_count": 30,
   "metadata": {},
   "outputs": [],
   "source": [
    "df_fr[\"reg_code\"] = [get_geo_code(gdf_regions, point) for point in df_fr.bb_center]\n",
    "df_fr[\"dep_code\"] = [get_geo_code(gdf_departements, point) for point in df_fr.bb_center]"
   ]
  },
  {
   "cell_type": "code",
   "execution_count": 31,
   "metadata": {},
   "outputs": [
    {
     "data": {
      "text/html": [
       "<div>\n",
       "<style scoped>\n",
       "    .dataframe tbody tr th:only-of-type {\n",
       "        vertical-align: middle;\n",
       "    }\n",
       "\n",
       "    .dataframe tbody tr th {\n",
       "        vertical-align: top;\n",
       "    }\n",
       "\n",
       "    .dataframe thead th {\n",
       "        text-align: right;\n",
       "    }\n",
       "</style>\n",
       "<table border=\"1\" class=\"dataframe\">\n",
       "  <thead>\n",
       "    <tr style=\"text-align: right;\">\n",
       "      <th></th>\n",
       "      <th>created_at</th>\n",
       "      <th>id_str</th>\n",
       "      <th>text</th>\n",
       "      <th>hashtags</th>\n",
       "      <th>urls</th>\n",
       "      <th>user_mentions</th>\n",
       "      <th>symbols</th>\n",
       "      <th>media</th>\n",
       "      <th>lang</th>\n",
       "      <th>coordinates</th>\n",
       "      <th>...</th>\n",
       "      <th>user_id</th>\n",
       "      <th>nb_hashtags</th>\n",
       "      <th>text_clean</th>\n",
       "      <th>tokens</th>\n",
       "      <th>tokens_cleand</th>\n",
       "      <th>len_tc</th>\n",
       "      <th>w_pos_lemma</th>\n",
       "      <th>bb_center</th>\n",
       "      <th>reg_code</th>\n",
       "      <th>dep_code</th>\n",
       "    </tr>\n",
       "  </thead>\n",
       "  <tbody>\n",
       "    <tr>\n",
       "      <th>0</th>\n",
       "      <td>2021-04-23 14:16:55+00:00</td>\n",
       "      <td>1.385599e+18</td>\n",
       "      <td>Il va sans dire que je m’inclus dans le niveau...</td>\n",
       "      <td>[]</td>\n",
       "      <td>0</td>\n",
       "      <td>0</td>\n",
       "      <td>[]</td>\n",
       "      <td>[]</td>\n",
       "      <td>fr</td>\n",
       "      <td>NaN</td>\n",
       "      <td>...</td>\n",
       "      <td>139315</td>\n",
       "      <td>0</td>\n",
       "      <td>Il va sans dire que je m’inclus dans le niveau...</td>\n",
       "      <td>['il', 'va', 'sans', 'dire', 'que', 'je', 'm',...</td>\n",
       "      <td>['sans', 'dire', 'inclus', 'niveau', 'general']</td>\n",
       "      <td>5</td>\n",
       "      <td>[('Il', 'PRON', 'il'), ('va', 'VERB', 'aller')...</td>\n",
       "      <td>(2.1641665, 48.836563)</td>\n",
       "      <td>11</td>\n",
       "      <td>92</td>\n",
       "    </tr>\n",
       "    <tr>\n",
       "      <th>1</th>\n",
       "      <td>2021-04-23 14:17:02+00:00</td>\n",
       "      <td>1.385599e+18</td>\n",
       "      <td>@108135 Ajd je te dirai mumblecore. Demain je ...</td>\n",
       "      <td>[]</td>\n",
       "      <td>0</td>\n",
       "      <td>1</td>\n",
       "      <td>[]</td>\n",
       "      <td>[]</td>\n",
       "      <td>fr</td>\n",
       "      <td>NaN</td>\n",
       "      <td>...</td>\n",
       "      <td>6971</td>\n",
       "      <td>0</td>\n",
       "      <td>Ajd je te dirai mumblecore Demain je te dirai...</td>\n",
       "      <td>['ajd', 'je', 'te', 'dirai', 'mumblecore', 'de...</td>\n",
       "      <td>['ajd', 'dirai', 'mumblecore', 'demain', 'dira...</td>\n",
       "      <td>10</td>\n",
       "      <td>[(' ', 'SPACE', ' '), ('Ajd', 'PROPN', 'Ajd'),...</td>\n",
       "      <td>(2.405564, 48.8840255)</td>\n",
       "      <td>11</td>\n",
       "      <td>93</td>\n",
       "    </tr>\n",
       "    <tr>\n",
       "      <th>2</th>\n",
       "      <td>2021-04-23 14:17:02+00:00</td>\n",
       "      <td>1.385599e+18</td>\n",
       "      <td>@14511 @103195 Est ce que ce guignol sait que ...</td>\n",
       "      <td>[]</td>\n",
       "      <td>1</td>\n",
       "      <td>2</td>\n",
       "      <td>[]</td>\n",
       "      <td>[]</td>\n",
       "      <td>fr</td>\n",
       "      <td>NaN</td>\n",
       "      <td>...</td>\n",
       "      <td>47994</td>\n",
       "      <td>0</td>\n",
       "      <td>Est ce que ce guignol sait que la confiance ...</td>\n",
       "      <td>['est', 'ce', 'que', 'ce', 'guignol', 'sait', ...</td>\n",
       "      <td>['guignol', 'sait', 'confiance', 'envers', 'me...</td>\n",
       "      <td>8</td>\n",
       "      <td>[('  ', 'SPACE', '  '), ('Est', 'NOUN', 'est')...</td>\n",
       "      <td>(-1.7629005, 43.3635405)</td>\n",
       "      <td>75</td>\n",
       "      <td>64</td>\n",
       "    </tr>\n",
       "    <tr>\n",
       "      <th>3</th>\n",
       "      <td>2021-04-23 14:17:10+00:00</td>\n",
       "      <td>1.385599e+18</td>\n",
       "      <td>MU, Liverpool et l’atletico parmis ceux là ? M...</td>\n",
       "      <td>[]</td>\n",
       "      <td>0</td>\n",
       "      <td>0</td>\n",
       "      <td>[]</td>\n",
       "      <td>[]</td>\n",
       "      <td>fr</td>\n",
       "      <td>NaN</td>\n",
       "      <td>...</td>\n",
       "      <td>91185</td>\n",
       "      <td>0</td>\n",
       "      <td>MU Liverpool et l’atletico parmis ceux là  Mdr...</td>\n",
       "      <td>['mu', 'liverpool', 'et', 'l', 'atletico', 'pa...</td>\n",
       "      <td>['liverpool', 'atletico', 'parmis', 'ceux', 'm...</td>\n",
       "      <td>7</td>\n",
       "      <td>[('MU', 'NOUN', 'mu'), ('Liverpool', 'PROPN', ...</td>\n",
       "      <td>(7.7093834999999995, 48.546882)</td>\n",
       "      <td>44</td>\n",
       "      <td>67</td>\n",
       "    </tr>\n",
       "    <tr>\n",
       "      <th>4</th>\n",
       "      <td>2021-04-23 14:17:14+00:00</td>\n",
       "      <td>1.385599e+18</td>\n",
       "      <td>Des champs de désolation</td>\n",
       "      <td>[]</td>\n",
       "      <td>0</td>\n",
       "      <td>0</td>\n",
       "      <td>[]</td>\n",
       "      <td>[]</td>\n",
       "      <td>fr</td>\n",
       "      <td>NaN</td>\n",
       "      <td>...</td>\n",
       "      <td>49702</td>\n",
       "      <td>0</td>\n",
       "      <td>Des champs de désolation</td>\n",
       "      <td>['des', 'champs', 'de', 'desolation']</td>\n",
       "      <td>['champs', 'desolation']</td>\n",
       "      <td>2</td>\n",
       "      <td>[('Des', 'DET', 'un'), ('champs', 'NOUN', 'cha...</td>\n",
       "      <td>(3.8742675, 43.610396)</td>\n",
       "      <td>76</td>\n",
       "      <td>34</td>\n",
       "    </tr>\n",
       "    <tr>\n",
       "      <th>...</th>\n",
       "      <td>...</td>\n",
       "      <td>...</td>\n",
       "      <td>...</td>\n",
       "      <td>...</td>\n",
       "      <td>...</td>\n",
       "      <td>...</td>\n",
       "      <td>...</td>\n",
       "      <td>...</td>\n",
       "      <td>...</td>\n",
       "      <td>...</td>\n",
       "      <td>...</td>\n",
       "      <td>...</td>\n",
       "      <td>...</td>\n",
       "      <td>...</td>\n",
       "      <td>...</td>\n",
       "      <td>...</td>\n",
       "      <td>...</td>\n",
       "      <td>...</td>\n",
       "      <td>...</td>\n",
       "      <td>...</td>\n",
       "      <td>...</td>\n",
       "    </tr>\n",
       "    <tr>\n",
       "      <th>328507</th>\n",
       "      <td>2021-04-23 02:13:09+00:00</td>\n",
       "      <td>1.385416e+18</td>\n",
       "      <td>@101021 J’espère que l’on n’aura pas droit à l...</td>\n",
       "      <td>[]</td>\n",
       "      <td>0</td>\n",
       "      <td>1</td>\n",
       "      <td>[]</td>\n",
       "      <td>[]</td>\n",
       "      <td>fr</td>\n",
       "      <td>NaN</td>\n",
       "      <td>...</td>\n",
       "      <td>35914</td>\n",
       "      <td>0</td>\n",
       "      <td>J’espère que l’on n’aura pas droit à la part ...</td>\n",
       "      <td>['j', 'espere', 'que', 'l', 'on', 'n', 'aura',...</td>\n",
       "      <td>['espere', 'droit', 'part', 'neg', 'parce', 'v...</td>\n",
       "      <td>8</td>\n",
       "      <td>[(' ', 'SPACE', ' '), ('J’', 'ADJ', 'j’'), ('e...</td>\n",
       "      <td>(2.4492789999999998, 48.7390625)</td>\n",
       "      <td>11</td>\n",
       "      <td>94</td>\n",
       "    </tr>\n",
       "    <tr>\n",
       "      <th>328508</th>\n",
       "      <td>2021-04-23 02:13:24+00:00</td>\n",
       "      <td>1.385416e+18</td>\n",
       "      <td>Comment ne pas voir que @10756 est pervers</td>\n",
       "      <td>[]</td>\n",
       "      <td>0</td>\n",
       "      <td>1</td>\n",
       "      <td>[]</td>\n",
       "      <td>[]</td>\n",
       "      <td>fr</td>\n",
       "      <td>NaN</td>\n",
       "      <td>...</td>\n",
       "      <td>38965</td>\n",
       "      <td>0</td>\n",
       "      <td>Comment ne pas voir que  est pervers</td>\n",
       "      <td>['comment', 'ne', 'pas', 'voir', 'que', 'est',...</td>\n",
       "      <td>['comment', 'voir', 'pervers']</td>\n",
       "      <td>3</td>\n",
       "      <td>[('Comment', 'ADV', 'comment'), ('ne', 'ADV', ...</td>\n",
       "      <td>(2.347003, 48.8588335)</td>\n",
       "      <td>11</td>\n",
       "      <td>75</td>\n",
       "    </tr>\n",
       "    <tr>\n",
       "      <th>328509</th>\n",
       "      <td>2021-04-23 02:13:37+00:00</td>\n",
       "      <td>1.385417e+18</td>\n",
       "      <td>@45942 C’est toi aussi tu veux pas me dire 🥺</td>\n",
       "      <td>[]</td>\n",
       "      <td>0</td>\n",
       "      <td>1</td>\n",
       "      <td>[]</td>\n",
       "      <td>[]</td>\n",
       "      <td>fr</td>\n",
       "      <td>NaN</td>\n",
       "      <td>...</td>\n",
       "      <td>35700</td>\n",
       "      <td>0</td>\n",
       "      <td>C’est toi aussi tu veux pas me dire 🥺</td>\n",
       "      <td>['c', 'est', 'toi', 'aussi', 'tu', 'veux', 'pa...</td>\n",
       "      <td>['aussi', 'veux', 'dire']</td>\n",
       "      <td>3</td>\n",
       "      <td>[(' ', 'SPACE', ' '), ('C’', 'PROPN', 'C’'), (...</td>\n",
       "      <td>(2.2478525, 48.950032)</td>\n",
       "      <td>11</td>\n",
       "      <td>95</td>\n",
       "    </tr>\n",
       "    <tr>\n",
       "      <th>328510</th>\n",
       "      <td>2021-04-23 02:13:47+00:00</td>\n",
       "      <td>1.385417e+18</td>\n",
       "      <td>j'arrive pas a dormir j'ai trop d'images en tête</td>\n",
       "      <td>[]</td>\n",
       "      <td>0</td>\n",
       "      <td>0</td>\n",
       "      <td>[]</td>\n",
       "      <td>[]</td>\n",
       "      <td>fr</td>\n",
       "      <td>NaN</td>\n",
       "      <td>...</td>\n",
       "      <td>121511</td>\n",
       "      <td>0</td>\n",
       "      <td>jarrive pas a dormir jai trop dimages en tête</td>\n",
       "      <td>['jarrive', 'pas', 'a', 'dormir', 'jai', 'trop...</td>\n",
       "      <td>['jarrive', 'dormir', 'jai', 'trop', 'dimages'...</td>\n",
       "      <td>6</td>\n",
       "      <td>[('jarrive', 'VERB', 'jarrive'), ('pas', 'ADV'...</td>\n",
       "      <td>(2.08812, 47.8520885)</td>\n",
       "      <td>24</td>\n",
       "      <td>45</td>\n",
       "    </tr>\n",
       "    <tr>\n",
       "      <th>328511</th>\n",
       "      <td>2021-04-23 02:13:53+00:00</td>\n",
       "      <td>1.385417e+18</td>\n",
       "      <td>@29222 @59371 @110866 Nan un nouveau combo ? V...</td>\n",
       "      <td>[]</td>\n",
       "      <td>1</td>\n",
       "      <td>3</td>\n",
       "      <td>[]</td>\n",
       "      <td>[]</td>\n",
       "      <td>fr</td>\n",
       "      <td>NaN</td>\n",
       "      <td>...</td>\n",
       "      <td>105226</td>\n",
       "      <td>0</td>\n",
       "      <td>Nan un nouveau combo  Vs êtes fort il est d...</td>\n",
       "      <td>['nan', 'un', 'nouveau', 'combo', 'vs', 'etes'...</td>\n",
       "      <td>['nan', 'nouveau', 'combo', 'etes', 'fort', 'c...</td>\n",
       "      <td>12</td>\n",
       "      <td>[('   ', 'SPACE', '   '), ('Nan', 'NOUN', 'nan...</td>\n",
       "      <td>(2.336888, 51.0311665)</td>\n",
       "      <td>32</td>\n",
       "      <td>59</td>\n",
       "    </tr>\n",
       "  </tbody>\n",
       "</table>\n",
       "<p>328512 rows × 25 columns</p>\n",
       "</div>"
      ],
      "text/plain": [
       "                       created_at        id_str  \\\n",
       "0       2021-04-23 14:16:55+00:00  1.385599e+18   \n",
       "1       2021-04-23 14:17:02+00:00  1.385599e+18   \n",
       "2       2021-04-23 14:17:02+00:00  1.385599e+18   \n",
       "3       2021-04-23 14:17:10+00:00  1.385599e+18   \n",
       "4       2021-04-23 14:17:14+00:00  1.385599e+18   \n",
       "...                           ...           ...   \n",
       "328507  2021-04-23 02:13:09+00:00  1.385416e+18   \n",
       "328508  2021-04-23 02:13:24+00:00  1.385416e+18   \n",
       "328509  2021-04-23 02:13:37+00:00  1.385417e+18   \n",
       "328510  2021-04-23 02:13:47+00:00  1.385417e+18   \n",
       "328511  2021-04-23 02:13:53+00:00  1.385417e+18   \n",
       "\n",
       "                                                     text hashtags  urls  \\\n",
       "0       Il va sans dire que je m’inclus dans le niveau...       []     0   \n",
       "1       @108135 Ajd je te dirai mumblecore. Demain je ...       []     0   \n",
       "2       @14511 @103195 Est ce que ce guignol sait que ...       []     1   \n",
       "3       MU, Liverpool et l’atletico parmis ceux là ? M...       []     0   \n",
       "4                                Des champs de désolation       []     0   \n",
       "...                                                   ...      ...   ...   \n",
       "328507  @101021 J’espère que l’on n’aura pas droit à l...       []     0   \n",
       "328508         Comment ne pas voir que @10756 est pervers       []     0   \n",
       "328509       @45942 C’est toi aussi tu veux pas me dire 🥺       []     0   \n",
       "328510   j'arrive pas a dormir j'ai trop d'images en tête       []     0   \n",
       "328511  @29222 @59371 @110866 Nan un nouveau combo ? V...       []     1   \n",
       "\n",
       "        user_mentions symbols media lang coordinates  ... user_id nb_hashtags  \\\n",
       "0                   0      []    []   fr         NaN  ...  139315           0   \n",
       "1                   1      []    []   fr         NaN  ...    6971           0   \n",
       "2                   2      []    []   fr         NaN  ...   47994           0   \n",
       "3                   0      []    []   fr         NaN  ...   91185           0   \n",
       "4                   0      []    []   fr         NaN  ...   49702           0   \n",
       "...               ...     ...   ...  ...         ...  ...     ...         ...   \n",
       "328507              1      []    []   fr         NaN  ...   35914           0   \n",
       "328508              1      []    []   fr         NaN  ...   38965           0   \n",
       "328509              1      []    []   fr         NaN  ...   35700           0   \n",
       "328510              0      []    []   fr         NaN  ...  121511           0   \n",
       "328511              3      []    []   fr         NaN  ...  105226           0   \n",
       "\n",
       "                                               text_clean  \\\n",
       "0       Il va sans dire que je m’inclus dans le niveau...   \n",
       "1        Ajd je te dirai mumblecore Demain je te dirai...   \n",
       "2         Est ce que ce guignol sait que la confiance ...   \n",
       "3       MU Liverpool et l’atletico parmis ceux là  Mdr...   \n",
       "4                                Des champs de désolation   \n",
       "...                                                   ...   \n",
       "328507   J’espère que l’on n’aura pas droit à la part ...   \n",
       "328508               Comment ne pas voir que  est pervers   \n",
       "328509              C’est toi aussi tu veux pas me dire 🥺   \n",
       "328510      jarrive pas a dormir jai trop dimages en tête   \n",
       "328511     Nan un nouveau combo  Vs êtes fort il est d...   \n",
       "\n",
       "                                                   tokens  \\\n",
       "0       ['il', 'va', 'sans', 'dire', 'que', 'je', 'm',...   \n",
       "1       ['ajd', 'je', 'te', 'dirai', 'mumblecore', 'de...   \n",
       "2       ['est', 'ce', 'que', 'ce', 'guignol', 'sait', ...   \n",
       "3       ['mu', 'liverpool', 'et', 'l', 'atletico', 'pa...   \n",
       "4                   ['des', 'champs', 'de', 'desolation']   \n",
       "...                                                   ...   \n",
       "328507  ['j', 'espere', 'que', 'l', 'on', 'n', 'aura',...   \n",
       "328508  ['comment', 'ne', 'pas', 'voir', 'que', 'est',...   \n",
       "328509  ['c', 'est', 'toi', 'aussi', 'tu', 'veux', 'pa...   \n",
       "328510  ['jarrive', 'pas', 'a', 'dormir', 'jai', 'trop...   \n",
       "328511  ['nan', 'un', 'nouveau', 'combo', 'vs', 'etes'...   \n",
       "\n",
       "                                            tokens_cleand  len_tc  \\\n",
       "0         ['sans', 'dire', 'inclus', 'niveau', 'general']       5   \n",
       "1       ['ajd', 'dirai', 'mumblecore', 'demain', 'dira...      10   \n",
       "2       ['guignol', 'sait', 'confiance', 'envers', 'me...       8   \n",
       "3       ['liverpool', 'atletico', 'parmis', 'ceux', 'm...       7   \n",
       "4                                ['champs', 'desolation']       2   \n",
       "...                                                   ...     ...   \n",
       "328507  ['espere', 'droit', 'part', 'neg', 'parce', 'v...       8   \n",
       "328508                     ['comment', 'voir', 'pervers']       3   \n",
       "328509                          ['aussi', 'veux', 'dire']       3   \n",
       "328510  ['jarrive', 'dormir', 'jai', 'trop', 'dimages'...       6   \n",
       "328511  ['nan', 'nouveau', 'combo', 'etes', 'fort', 'c...      12   \n",
       "\n",
       "                                              w_pos_lemma  \\\n",
       "0       [('Il', 'PRON', 'il'), ('va', 'VERB', 'aller')...   \n",
       "1       [(' ', 'SPACE', ' '), ('Ajd', 'PROPN', 'Ajd'),...   \n",
       "2       [('  ', 'SPACE', '  '), ('Est', 'NOUN', 'est')...   \n",
       "3       [('MU', 'NOUN', 'mu'), ('Liverpool', 'PROPN', ...   \n",
       "4       [('Des', 'DET', 'un'), ('champs', 'NOUN', 'cha...   \n",
       "...                                                   ...   \n",
       "328507  [(' ', 'SPACE', ' '), ('J’', 'ADJ', 'j’'), ('e...   \n",
       "328508  [('Comment', 'ADV', 'comment'), ('ne', 'ADV', ...   \n",
       "328509  [(' ', 'SPACE', ' '), ('C’', 'PROPN', 'C’'), (...   \n",
       "328510  [('jarrive', 'VERB', 'jarrive'), ('pas', 'ADV'...   \n",
       "328511  [('   ', 'SPACE', '   '), ('Nan', 'NOUN', 'nan...   \n",
       "\n",
       "                               bb_center reg_code dep_code  \n",
       "0                 (2.1641665, 48.836563)       11       92  \n",
       "1                 (2.405564, 48.8840255)       11       93  \n",
       "2               (-1.7629005, 43.3635405)       75       64  \n",
       "3        (7.7093834999999995, 48.546882)       44       67  \n",
       "4                 (3.8742675, 43.610396)       76       34  \n",
       "...                                  ...      ...      ...  \n",
       "328507  (2.4492789999999998, 48.7390625)       11       94  \n",
       "328508            (2.347003, 48.8588335)       11       75  \n",
       "328509            (2.2478525, 48.950032)       11       95  \n",
       "328510             (2.08812, 47.8520885)       24       45  \n",
       "328511            (2.336888, 51.0311665)       32       59  \n",
       "\n",
       "[328512 rows x 25 columns]"
      ]
     },
     "execution_count": 31,
     "metadata": {},
     "output_type": "execute_result"
    }
   ],
   "source": [
    "df_fr_geo = df_fr[df_fr.reg_code != False].reset_index(drop=True)\n",
    "df_fr_geo = df_fr_geo[df_fr_geo.dep_code != False].reset_index(drop=True)\n",
    "df_fr_geo"
   ]
  },
  {
   "cell_type": "code",
   "execution_count": 32,
   "metadata": {},
   "outputs": [],
   "source": [
    "#df_fr_geo.to_csv(\"nlp_geo_tweets.csv\")"
   ]
  },
  {
   "cell_type": "code",
   "execution_count": null,
   "metadata": {},
   "outputs": [],
   "source": []
  }
 ],
 "metadata": {
  "kernelspec": {
   "display_name": "Python 3",
   "language": "python",
   "name": "python3"
  },
  "language_info": {
   "codemirror_mode": {
    "name": "ipython",
    "version": 3
   },
   "file_extension": ".py",
   "mimetype": "text/x-python",
   "name": "python",
   "nbconvert_exporter": "python",
   "pygments_lexer": "ipython3",
   "version": "3.8.5"
  }
 },
 "nbformat": 4,
 "nbformat_minor": 4
}
